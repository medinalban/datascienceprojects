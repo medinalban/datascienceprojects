{
 "cells": [
  {
   "cell_type": "markdown",
   "metadata": {
    "id": "UlqYJ7oql3o1"
   },
   "source": [
    "# **Milestone 1**\n",
    "\n",
    "### **Context:**\n",
    "\n",
    " - Why is this problem important to solve?"
   ]
  },
  {
   "cell_type": "markdown",
   "metadata": {
    "id": "xcOelcO5l6aM"
   },
   "source": [
    "### **The objective:**\n",
    "\n",
    " - What is the intended goal?"
   ]
  },
  {
   "cell_type": "markdown",
   "metadata": {
    "id": "R0lXs6xjmBgk"
   },
   "source": [
    "### **The key questions:**\n",
    "\n",
    "- What are the key questions that need to be answered?\n",
    "\n"
   ]
  },
  {
   "cell_type": "markdown",
   "metadata": {
    "id": "4vh1HBtdmE_I"
   },
   "source": [
    "### **The problem formulation**:\n",
    "\n",
    "- What is it that we are trying to solve using data science?"
   ]
  },
  {
   "cell_type": "markdown",
   "metadata": {
    "id": "J-JZtcBYtOSb"
   },
   "source": [
    "## **Data Dictionary**\n",
    "\n",
    "**S.No.** : Serial Number\n",
    "\n",
    "**Name** : Name of the car which includes Brand name and Model name\n",
    "\n",
    "**Location** : The location in which the car is being sold or is available for purchase (Cities)\n",
    "\n",
    "**Year** : Manufacturing year of the car\n",
    "\n",
    "**Kilometers_driven** : The total kilometers driven in the car by the previous owner(s) in KM\n",
    "\n",
    "**Fuel_Type** : The type of fuel used by the car (Petrol, Diesel, Electric, CNG, LPG)\n",
    "\n",
    "**Transmission** : The type of transmission used by the car (Automatic / Manual)\n",
    "\n",
    "**Owner** : Type of ownership\n",
    "\n",
    "**Mileage** : The standard mileage offered by the car company in kmpl or km/kg\n",
    "\n",
    "**Engine** : The displacement volume of the engine in CC\n",
    "\n",
    "**Power** : The maximum power of the engine in bhp\n",
    "\n",
    "**Seats** : The number of seats in the car\n",
    "\n",
    "**New_Price** : The price of a new car of the same model in INR 100,000\n",
    "\n",
    "**Price** : The price of the used car in INR 100,000 (**Target Variable**)"
   ]
  },
  {
   "cell_type": "markdown",
   "metadata": {
    "id": "8AqyAIRRVL3P"
   },
   "source": [
    "## **Important Notes**\n",
    "\n",
    "- This notebook can be considered a guide to refer to while solving the problem. The evaluation will be as per the Rubric shared for each Milestone. Unlike previous courses, it does not follow the pattern of the graded questions in different sections. This notebook will give you a direction on what steps need to be taken in order to get a viable solution to the problem. Please note that this is just one way of doing this. There can be other 'creative' ways to solve the problem and we urge you to feel free and explore them as an 'optional' exercise. \n",
    "\n",
    "- In the notebook, there are markdown cells called - Observations and Insights. It is a good practice to provide observations and extract insights from the outputs.\n",
    "\n",
    "- The naming convention for different variables can vary. Please consider the code provided in this notebook as a sample code.\n",
    "\n",
    "- All the outputs in the notebook are just for reference and can be different if you follow a different approach.\n",
    "\n",
    "- There are sections called **Think About It** in the notebook that will help you get a better understanding of the reasoning behind a particular technique/step. Interested learners can take alternative approaches if they wish to explore different techniques. "
   ]
  },
  {
   "cell_type": "markdown",
   "metadata": {
    "id": "sq6tooY0VL3Q"
   },
   "source": [
    "# **Milestone 1** "
   ]
  },
  {
   "cell_type": "markdown",
   "metadata": {
    "id": "rlLoEhsbtOSg"
   },
   "source": [
    "### **Loading libraries**"
   ]
  },
  {
   "cell_type": "code",
   "execution_count": null,
   "metadata": {
    "id": "8J9KZGl9tOSh"
   },
   "outputs": [],
   "source": [
    "# Import required libraries\n",
    "import pandas as pd\n",
    "import numpy as np\n",
    "\n",
    "import matplotlib.pyplot as plt\n",
    "import seaborn as sns\n",
    "\n",
    "# To ignore warnings\n",
    "import warnings\n",
    "warnings.filterwarnings('ignore')\n",
    "\n",
    "# Remove the limit from the number of displayed columns and rows. It helps to see the entire dataframe while printing it\n",
    "pd.set_option(\"display.max_columns\", None)"
   ]
  },
  {
   "cell_type": "markdown",
   "metadata": {
    "id": "baG7rS5FtOSh"
   },
   "source": [
    "### **Let us load the data**"
   ]
  },
  {
   "cell_type": "code",
   "execution_count": null,
   "metadata": {
    "id": "flK0muyhtOSi"
   },
   "outputs": [],
   "source": [
    "data = pd.read_csv(\"used_cars.csv\")"
   ]
  },
  {
   "cell_type": "markdown",
   "metadata": {
    "id": "63k9imdMtOSi"
   },
   "source": [
    "### **Understand the data by observing a few rows**"
   ]
  },
  {
   "cell_type": "code",
   "execution_count": null,
   "metadata": {
    "id": "rrVFKlXXtOSi"
   },
   "outputs": [],
   "source": [
    "# View first 5 rows"
   ]
  },
  {
   "cell_type": "code",
   "execution_count": null,
   "metadata": {
    "id": "7oeTruANtOSj"
   },
   "outputs": [],
   "source": [
    "# View last 5 rows Hint: Use tail() method"
   ]
  },
  {
   "cell_type": "markdown",
   "metadata": {
    "id": "phPYdzpDtOSk"
   },
   "source": [
    "**Observations and Insights: _____**"
   ]
  },
  {
   "cell_type": "markdown",
   "metadata": {
    "id": "T0h9uyJNVL3U"
   },
   "source": [
    "### **Let us check the data types and and missing values of each column** "
   ]
  },
  {
   "cell_type": "code",
   "execution_count": null,
   "metadata": {
    "id": "r1jWwTJiVL3V"
   },
   "outputs": [],
   "source": [
    "# Check the datatypes of each column. Hint: Use info() method"
   ]
  },
  {
   "cell_type": "code",
   "execution_count": null,
   "metadata": {
    "id": "7d0y0_sqVL3V"
   },
   "outputs": [],
   "source": [
    "# Check total number of missing values of each column. Hint: Use isnull() method"
   ]
  },
  {
   "cell_type": "markdown",
   "metadata": {
    "id": "YYEjK2P9VL3V"
   },
   "source": [
    "**Observations and Insights: _____**"
   ]
  },
  {
   "cell_type": "markdown",
   "metadata": {
    "id": "advlMcdfVL3V"
   },
   "source": [
    "We can observe that `S.No.` has no null values. Also the number of unique values are equal to the number of observations. So, `S.No.` looks like an index for the data entry and such a column would not be useful in providing any predictive power for our analysis. Hence, it can be dropped."
   ]
  },
  {
   "cell_type": "code",
   "execution_count": null,
   "metadata": {
    "id": "7iOwET4BtOSk"
   },
   "outputs": [],
   "source": [
    "# Remove S.No. column from data. Hint: Use inplace = True\n",
    "data.drop(_______)"
   ]
  },
  {
   "cell_type": "markdown",
   "metadata": {
    "id": "crnR9cphIrct"
   },
   "source": [
    "## **Exploratory Data Analysis**"
   ]
  },
  {
   "cell_type": "markdown",
   "metadata": {
    "id": "foDG3YDDtOSm"
   },
   "source": [
    "### **Let us now explore the summary statistics of numerical variables**"
   ]
  },
  {
   "cell_type": "code",
   "execution_count": null,
   "metadata": {
    "id": "gRtUSqXptOSm",
    "scrolled": true
   },
   "outputs": [],
   "source": [
    "# Explore basic summary statistics of numeric variables. Hint: Use describe() method."
   ]
  },
  {
   "cell_type": "markdown",
   "metadata": {
    "id": "L_1gUwvctOSm"
   },
   "source": [
    "**Observations and Insights: _____**"
   ]
  },
  {
   "cell_type": "markdown",
   "metadata": {
    "id": "FE62g5aoVL3W"
   },
   "source": [
    "### **Let us also explore the summary statistics of all categorical variables and the number of unique observations in each category**"
   ]
  },
  {
   "cell_type": "code",
   "execution_count": null,
   "metadata": {
    "id": "SKOwkEHItOSm"
   },
   "outputs": [],
   "source": [
    "# Explore basic summary statistics of categorical variables. Hint: Use the argument include = ['object'] "
   ]
  },
  {
   "cell_type": "markdown",
   "metadata": {
    "id": "EaSIWEHUtOSn"
   },
   "source": [
    "**Number of unique observations in each category**"
   ]
  },
  {
   "cell_type": "code",
   "execution_count": null,
   "metadata": {
    "id": "IKOWSKhqVL3X"
   },
   "outputs": [],
   "source": [
    "cat_cols = data.select_dtypes(include = ['object']).columns\n",
    "\n",
    "for column in cat_cols:\n",
    "    \n",
    "    print(\"For column:\", column)\n",
    "    \n",
    "    print(data[column].______)\n",
    "    \n",
    "    print('-'*50)"
   ]
  },
  {
   "cell_type": "markdown",
   "metadata": {
    "id": "K8ck0A1ltOSn"
   },
   "source": [
    "#### **Observations and Insights: _____**"
   ]
  },
  {
   "cell_type": "markdown",
   "metadata": {
    "id": "E1XK56IlVL3X"
   },
   "source": [
    "**Think About It**: \n",
    "\n",
    "- We could observe from summary statistics that kilometers_driven has extreme values. Can we look at the manufactured year for cars with extreme values for kilometers_driven? \n",
    "- Also, we could observe the feature mileage has values zero. Can the mileage of a car be zero?"
   ]
  },
  {
   "cell_type": "markdown",
   "metadata": {
    "id": "xT4ddKw_VL3X"
   },
   "source": [
    "**Let's explore the two points mentioned above**"
   ]
  },
  {
   "cell_type": "markdown",
   "metadata": {
    "id": "V5IwjyYstOSn"
   },
   "source": [
    "**Check Kilometers_Driven extreme values**"
   ]
  },
  {
   "cell_type": "code",
   "execution_count": null,
   "metadata": {
    "id": "HqsfH-VFtOSo"
   },
   "outputs": [],
   "source": [
    "# Sort the dataset in 'descending' order using the feature 'Kilometers_Driven'\n",
    "data.sort_values(_________).head(10)"
   ]
  },
  {
   "cell_type": "markdown",
   "metadata": {
    "id": "HxhehTWQtOSo"
   },
   "source": [
    "#### **Observations and Insights: _____**\n"
   ]
  },
  {
   "cell_type": "markdown",
   "metadata": {
    "id": "rLtq9uqgVL3X"
   },
   "source": [
    "In the first row, a car manufactured as recently as 2017 having been driven 6500000 km is almost impossible. It can be considered as data entry error and so we can remove this value/entry from data."
   ]
  },
  {
   "cell_type": "code",
   "execution_count": null,
   "metadata": {
    "id": "gA65oQhoIrcx"
   },
   "outputs": [],
   "source": [
    "# Removing the 'row' at index 2328 from the data. Hint: use the argument inplace=True\n",
    "data.drop(_______)"
   ]
  },
  {
   "cell_type": "markdown",
   "metadata": {
    "id": "fDIBa5OFtOSo"
   },
   "source": [
    "**Check Mileage extreme values**"
   ]
  },
  {
   "cell_type": "code",
   "execution_count": null,
   "metadata": {
    "id": "0zdqBCD-tOSp"
   },
   "outputs": [],
   "source": [
    "# Sort the dataset in 'ascending' order using the feature 'Mileage'\n",
    "data.sort(_________).head(10)"
   ]
  },
  {
   "cell_type": "markdown",
   "metadata": {
    "id": "FcQR7NMgtOSp"
   },
   "source": [
    "#### **Observations**\n",
    "* Mileage of cars can not be 0, so we should treat 0's as missing values. We will do it in the Feature Engineering part."
   ]
  },
  {
   "cell_type": "markdown",
   "metadata": {
    "id": "7Rwx-1ZuhU3D"
   },
   "source": [
    "## **Univariate Analysis**\n",
    "Univariate analysis is used to explore each variable in a data set, separately. It looks at the range of values, as well as the central tendency of the values. It can be done for both numerical and categorical variables."
   ]
  },
  {
   "cell_type": "markdown",
   "metadata": {
    "id": "XYmSIliuIrcy"
   },
   "source": [
    "## **1. Univariate Analysis - Numerical Data**\n",
    "Histograms and box plots help to visualize and describe numerical data. We use box plot and histogram to analyse the numerical columns."
   ]
  },
  {
   "cell_type": "code",
   "execution_count": null,
   "metadata": {
    "id": "4IvqyxldtOSp"
   },
   "outputs": [],
   "source": [
    "# Let us write a function that will help us create a boxplot and histogram for any input numerical variable.\n",
    "# This function takes the numerical column as the input and returns the boxplots and histograms for the variable.\n",
    "\n",
    "def histogram_boxplot(feature, figsize = (15, 10), bins = None):\n",
    "    \n",
    "    \"\"\" Boxplot and histogram combined\n",
    "    \n",
    "    feature: 1-d feature array\n",
    "    \n",
    "    figsize: size of fig (default (9, 8))\n",
    "    \n",
    "    bins: number of bins (default None / auto)\n",
    "    \n",
    "    \"\"\"\n",
    "    f2, (ax_box2, ax_hist2) = plt.subplots(nrows = 2, # Number of rows of the subplot grid = 2\n",
    "                                           sharex = True, # X-axis will be shared among all subplots\n",
    "                                           gridspec_kw = {\"height_ratios\": (.25, .75)}, \n",
    "                                           figsize = figsize \n",
    "                                           ) # Creating the 2 subplots\n",
    "    \n",
    "    sns.boxplot(feature, ax = ax_box2, showmeans = True, color = 'violet') # Boxplot will be created and a symbol will indicate the mean value of the column\n",
    "    \n",
    "    sns.distplot(feature, kde = F, ax = ax_hist2, bins = bins, palette = \"winter\") if bins else sns.distplot(feature, kde = False, ax = ax_hist2) # For histogram\n",
    "    \n",
    "    ax_hist2.axvline(np.mean(feature), color = 'green', linestyle = '--') # Add mean to the histogram\n",
    "    \n",
    "    ax_hist2.axvline(np.median(feature), color = 'black', linestyle = '-') # Add median to the histogram"
   ]
  },
  {
   "cell_type": "markdown",
   "metadata": {
    "id": "63SJOZqbtOSp"
   },
   "source": [
    "**Let us plot histogram and box-plot for the feature 'Kilometers_Driven' to understand the distribution and outliers, if any.**"
   ]
  },
  {
   "cell_type": "code",
   "execution_count": null,
   "metadata": {
    "id": "h3oGmDAktOSq"
   },
   "outputs": [],
   "source": [
    "# Plot histogram and box-plot for 'Kilometers_Driven'\n",
    "histogram_boxplot(data['Kilometers_Driven'])"
   ]
  },
  {
   "cell_type": "markdown",
   "metadata": {
    "id": "J7VeOWAftOSq"
   },
   "source": [
    "**Think About It**: Kilometers_Driven is highly right-skewed. Can we use Log transformation of the feature to reduce/remove the skewness? Why can't we keep skewed data?"
   ]
  },
  {
   "cell_type": "code",
   "execution_count": null,
   "metadata": {
    "id": "xvUxKBPetOSq"
   },
   "outputs": [],
   "source": [
    "# Log transformation of the feature 'Kilometers_Driven'\n",
    "sns.distplot(np.log(data[\"Kilometers_Driven\"]), axlabel = \"Log(Kilometers_Driven)\");"
   ]
  },
  {
   "cell_type": "markdown",
   "metadata": {
    "id": "RhVfiCG6tOSq"
   },
   "source": [
    "**Observations and Insights: _____**"
   ]
  },
  {
   "cell_type": "code",
   "execution_count": null,
   "metadata": {
    "id": "MSobKz9jtOSr"
   },
   "outputs": [],
   "source": [
    "# We can add a transformed kilometers_driven feature in data\n",
    "data[\"kilometers_driven_log\"] = np.log(data[\"Kilometers_Driven\"])"
   ]
  },
  {
   "cell_type": "markdown",
   "metadata": {
    "id": "5IZEyt7NVL3Z"
   },
   "source": [
    "**Note:** Like Kilometers_Driven, the distribution of Price is also highly skewed, we can use log transformation on this column to see if that helps normalize the distribution. And add the transformed variable into the dataset. You can name the variable as **'price_log'**."
   ]
  },
  {
   "cell_type": "code",
   "execution_count": null,
   "metadata": {
    "id": "bU82nipkVL3Z"
   },
   "outputs": [],
   "source": [
    "# Plot histogram and box-plot for 'Price'"
   ]
  },
  {
   "cell_type": "code",
   "execution_count": null,
   "metadata": {
    "id": "s16uiRXFVL3Z"
   },
   "outputs": [],
   "source": [
    "# Log transformation of the feature 'Price'"
   ]
  },
  {
   "cell_type": "code",
   "execution_count": null,
   "metadata": {
    "id": "X_8uUAcEVL3Z"
   },
   "outputs": [],
   "source": [
    "# We can Add a transformed Price feature in data"
   ]
  },
  {
   "cell_type": "markdown",
   "metadata": {
    "id": "LaPbA-1ltOSr"
   },
   "source": [
    "**Note:** Try plotting histogram and box-plot for different numerical features and understand how the data looks like."
   ]
  },
  {
   "cell_type": "markdown",
   "metadata": {
    "id": "HwE0djBTtOSr"
   },
   "source": [
    "**Observations and Insights for all the plots: _____**\n"
   ]
  },
  {
   "cell_type": "markdown",
   "metadata": {
    "id": "vjT3FFoDIrc3"
   },
   "source": [
    "## **2. Univariate analysis - Categorical Data**"
   ]
  },
  {
   "cell_type": "code",
   "execution_count": null,
   "metadata": {
    "id": "MZZW1y_ctOSt"
   },
   "outputs": [],
   "source": [
    "# Let us write a function that will help us create barplots that indicate the percentage for each category.\n",
    "# This function takes the categorical column as the input and returns the barplots for the variable.\n",
    "\n",
    "def perc_on_bar(z):\n",
    "    '''\n",
    "    plot\n",
    "    feature: categorical feature\n",
    "    the function won't work if a column is passed in hue parameter\n",
    "    '''\n",
    "\n",
    "    total = len(data[z]) # Length of the column\n",
    "    \n",
    "    plt.figure(figsize = (15, 5))\n",
    "    \n",
    "    ax = sns.countplot(data[z], palette = 'Paired', order = data[z].value_counts().index)\n",
    "    \n",
    "    for p in ax.patches:\n",
    "        \n",
    "        percentage = '{:.1f}%'.format(100 * p.get_height() / total) # Percentage of each class of the category\n",
    "        \n",
    "        x = p.get_x() + p.get_width() / 2 - 0.05 # Width of the plot\n",
    "        \n",
    "        y = p.get_y() + p.get_height()           # Hieght of the plot\n",
    "        \n",
    "        ax.annotate(percentage, (x, y), size = 12) # Annotate the percantage \n",
    "    \n",
    "    plt.show() # Show the plot"
   ]
  },
  {
   "cell_type": "markdown",
   "metadata": {
    "id": "lY4PNN04tOSt"
   },
   "source": [
    "**Let us plot barplot for the variable location. It will be helpful to know the number of percentage of cars from each city.**"
   ]
  },
  {
   "cell_type": "code",
   "execution_count": null,
   "metadata": {
    "id": "OOLcER6KtOSu"
   },
   "outputs": [],
   "source": [
    "# Bar Plot for 'Location'\n",
    "perc_on_bar('Location')"
   ]
  },
  {
   "cell_type": "markdown",
   "metadata": {
    "id": "ggQtrIJmVL3a"
   },
   "source": [
    "**Note:** Explore for other variables like Year, Fuel_Type, Transmission, Owner_Type`."
   ]
  },
  {
   "cell_type": "markdown",
   "metadata": {
    "id": "GmPUFwWQtOSu"
   },
   "source": [
    "**Observations and Insights from all plots: _____**"
   ]
  },
  {
   "cell_type": "markdown",
   "metadata": {
    "id": "beo_tDmVhU3-"
   },
   "source": [
    "## **Bivariate Analysis**"
   ]
  },
  {
   "cell_type": "markdown",
   "metadata": {
    "id": "8xmd6go2Irc5"
   },
   "source": [
    "### **1. Scatter plot**\n",
    "A scatter plot allows us to see relationships between two variables. \n",
    "\n",
    "**Note: Use log transformed values 'kilometers_driven_log' and 'price_log'**"
   ]
  },
  {
   "cell_type": "code",
   "execution_count": null,
   "metadata": {
    "id": "aB4nfBtqVL3b"
   },
   "outputs": [],
   "source": [
    "# Let us plot pair plot for the variables 'year' and 'price_log'\n",
    "data.plot(x = 'price_log', y = 'Year', style = 'o')"
   ]
  },
  {
   "cell_type": "markdown",
   "metadata": {
    "id": "v107OPbgVL3b"
   },
   "source": [
    "<b>Note:</b> Try to explore different combinations of independent variables and dependent variable. Understand the relationship between all variables."
   ]
  },
  {
   "cell_type": "markdown",
   "metadata": {
    "id": "JipnN20DVL3b"
   },
   "source": [
    "**Observations and Insights from all plots: _____**\n"
   ]
  },
  {
   "cell_type": "markdown",
   "metadata": {
    "id": "Z8svlVbWtOSy"
   },
   "source": [
    "### **2. Heat map**\n",
    "Heat map shows a 2D correlation matrix between two numerical features."
   ]
  },
  {
   "cell_type": "code",
   "execution_count": null,
   "metadata": {
    "id": "obYRQMiytOSy"
   },
   "outputs": [],
   "source": [
    "# We can include the log transformation values and drop the original skewed data columns\n",
    "plt.figure(figsize = (12, 7))\n",
    "\n",
    "sns.heatmap(data.drop([________],axis = 1).corr(), annot = True, vmin = -1, vmax = 1)\n",
    "\n",
    "plt.show()"
   ]
  },
  {
   "cell_type": "markdown",
   "metadata": {
    "id": "p8FZxksptOSy"
   },
   "source": [
    "**Observations and Insights: _____**"
   ]
  },
  {
   "cell_type": "markdown",
   "metadata": {
    "id": "XoilGTkZIrc6"
   },
   "source": [
    "### **3. Box plot**"
   ]
  },
  {
   "cell_type": "code",
   "execution_count": null,
   "metadata": {
    "id": "LqGH0RvCtOSy"
   },
   "outputs": [],
   "source": [
    "# Let us write a function that will help us create boxplot w.r.t Price for any input categorical variable.\n",
    "# This function takes the categorical column as the input and returns the boxplots for the variable.\n",
    "def boxplot(z):\n",
    "    \n",
    "    plt.figure(figsize = (12, 5)) # Setting size of boxplot\n",
    "    \n",
    "    sns.boxplot(x = z, y = data['Price']) # Defining x and y\n",
    "    \n",
    "    plt.show()\n",
    "    \n",
    "    plt.figure(figsize = (12, 5))\n",
    "    \n",
    "    plt.title('Without Outliers')\n",
    "    \n",
    "    sns.boxplot(x = z, y = data['Price'], showfliers = False) # Turning off the outliers\n",
    "    \n",
    "    plt.show()"
   ]
  },
  {
   "cell_type": "markdown",
   "metadata": {
    "id": "eXvYdYGCVL3b"
   },
   "source": [
    "#### Let us now plot bivariate analysis of target variable with a categorical variable 'Location'"
   ]
  },
  {
   "cell_type": "code",
   "execution_count": null,
   "metadata": {
    "id": "V9Xj3jNntOSz"
   },
   "outputs": [],
   "source": [
    "# Box Plot: Price vs Location\n",
    "boxplot(data['Location'])"
   ]
  },
  {
   "cell_type": "markdown",
   "metadata": {
    "id": "hK3wD0GyVL3c"
   },
   "source": [
    "<b>Note: </b> Explore by plotting box-plots for target variable and the other categorical variables like Fuel_Type, transmission, Owner_type."
   ]
  },
  {
   "cell_type": "markdown",
   "metadata": {
    "id": "sMoRw1rStOSz"
   },
   "source": [
    "**Observations and Insights for all plots:__**\n"
   ]
  },
  {
   "cell_type": "markdown",
   "metadata": {
    "id": "70E7M7KJtOS1"
   },
   "source": [
    "### **Feature Engineering**"
   ]
  },
  {
   "cell_type": "markdown",
   "metadata": {
    "id": "TD7mqJI6tOS1"
   },
   "source": [
    "**Think about it:** The `Name` column in the current format might not be very useful in our analysis.\n",
    "Since the name contains both the brand name and the model name of the vehicle, the column would have too many unique values to be useful in prediction. Can we extract that information from that column? "
   ]
  },
  {
   "cell_type": "markdown",
   "metadata": {
    "id": "Z1bl_6rztOS1"
   },
   "source": [
    "* **Hint:** With 2041 unique names, car names are not going to be great predictors of the price in our current data. But we can process this column to extract important information for example brand name."
   ]
  },
  {
   "cell_type": "markdown",
   "metadata": {
    "id": "cPMwjKyhtOS3"
   },
   "source": [
    "#### **Observations and Insights: _____**"
   ]
  },
  {
   "cell_type": "markdown",
   "metadata": {
    "id": "2N4fU3TetOS3"
   },
   "source": [
    "### **Missing value treatment**"
   ]
  },
  {
   "cell_type": "code",
   "execution_count": null,
   "metadata": {
    "id": "fqZJaxW-tOS4"
   },
   "outputs": [],
   "source": [
    "# Now check the missing values of each column. Hint: Use isnull() method"
   ]
  },
  {
   "cell_type": "markdown",
   "metadata": {
    "id": "9D0K7dWHtOS4"
   },
   "source": [
    "#### **Observations and Insights: _____**"
   ]
  },
  {
   "cell_type": "markdown",
   "metadata": {
    "id": "0g1JA9HltOS4"
   },
   "source": [
    "**Missing values in Seats**"
   ]
  },
  {
   "cell_type": "code",
   "execution_count": null,
   "metadata": {
    "id": "0ygbJcoOtOS4",
    "scrolled": true
   },
   "outputs": [],
   "source": [
    "# Checking missing values in the column 'Seats'"
   ]
  },
  {
   "cell_type": "markdown",
   "metadata": {
    "id": "Tg0mIMdxVL3d"
   },
   "source": [
    "**Think about it:** Can we somehow use the extracted information from 'Name' column to impute missing values?"
   ]
  },
  {
   "cell_type": "markdown",
   "metadata": {
    "id": "wErCOPkStOS4",
    "outputId": "0b6d3b63-47a9-4aba-b053-024e186d1d7e"
   },
   "source": [
    "**Hint:** Impute these missing values one by one, by taking median number of seats for the particular car, using the Brand and Model name.\n"
   ]
  },
  {
   "cell_type": "code",
   "execution_count": null,
   "metadata": {
    "id": "mIoatRh9tOS4"
   },
   "outputs": [],
   "source": [
    "# Impute missing values in Seats,you can use fillna method in pandas"
   ]
  },
  {
   "cell_type": "code",
   "execution_count": null,
   "metadata": {
    "id": "YS4QIbWPtOS5"
   },
   "outputs": [],
   "source": [
    "# Now check total number of missing values of the seat column to verify if they are imputed or not. Hint: Use isnull() method"
   ]
  },
  {
   "cell_type": "markdown",
   "metadata": {
    "id": "wjaNSFLRtOS5"
   },
   "source": [
    "**Missing values for Mileage**"
   ]
  },
  {
   "cell_type": "code",
   "execution_count": null,
   "metadata": {
    "id": "DRXO50mXVL3d"
   },
   "outputs": [],
   "source": [
    "# Now check missing values of each column. Hint: Use isnull() method"
   ]
  },
  {
   "cell_type": "code",
   "execution_count": null,
   "metadata": {
    "id": "Etr9nkEKtOS6"
   },
   "outputs": [],
   "source": [
    "# Impute missing Mileage. For example, use can use median or any other methods."
   ]
  },
  {
   "cell_type": "code",
   "execution_count": null,
   "metadata": {
    "id": "RWH5k6nAtOS6"
   },
   "outputs": [],
   "source": [
    "# Now check total number of missing values of the seat column to verify if they are imputed or not. Hint: Use isnull() method"
   ]
  },
  {
   "cell_type": "markdown",
   "metadata": {
    "id": "SSRXU5m3tOS6"
   },
   "source": [
    "**Missing values for Engine**"
   ]
  },
  {
   "cell_type": "code",
   "execution_count": null,
   "metadata": {
    "id": "wy9Gqxg-tOS6"
   },
   "outputs": [],
   "source": []
  },
  {
   "cell_type": "markdown",
   "metadata": {
    "id": "Py_n-7fLtOS6"
   },
   "source": [
    "**Missing values for Power**"
   ]
  },
  {
   "cell_type": "code",
   "execution_count": null,
   "metadata": {
    "id": "2WsE1-VftOS7"
   },
   "outputs": [],
   "source": []
  },
  {
   "cell_type": "markdown",
   "metadata": {
    "id": "D69-3ZiCtOS7"
   },
   "source": [
    "**Missing values for New_price**"
   ]
  },
  {
   "cell_type": "code",
   "execution_count": null,
   "metadata": {
    "id": "53xzbaWzVL3e"
   },
   "outputs": [],
   "source": []
  },
  {
   "cell_type": "markdown",
   "metadata": {
    "id": "0Rj8acAJtOS7"
   },
   "source": [
    "**Observations for missing values after imputing: _____**"
   ]
  },
  {
   "cell_type": "markdown",
   "metadata": {
    "id": "hZrjCg9pm3-n"
   },
   "source": [
    "## **Proposed approach**\n",
    "\n",
    "- **Potential techniques -** What different techniques should be explored?\n",
    "- **Overall solution design -** What is the potential solution design?\n",
    "- **Measures of success -** What are the key measures of success?"
   ]
  },
  {
   "cell_type": "markdown",
   "metadata": {},
   "source": [
    "### **Saving the Data**"
   ]
  },
  {
   "cell_type": "markdown",
   "metadata": {},
   "source": [
    "Please save the pre-processed dataset into a separate file so that we can continue without having to repeat the work we did in Milestone1. The stored data frame can be loaded into Milestone2 and implemented further.\n",
    "\n",
    "To save the pre-processed data frame, please follow the below lines of code:"
   ]
  },
  {
   "cell_type": "code",
   "execution_count": null,
   "metadata": {},
   "outputs": [],
   "source": [
    "# Assume df_cleaned is the pre-processed data frame in your code, then\n",
    "df_cleaned.to_csv(\"cars_data_updated.csv\", index = False)"
   ]
  },
  {
   "cell_type": "markdown",
   "metadata": {},
   "source": [
    "The above code helps to save the cleaned/pre-processed dataset into csv file, that can be further loaded into Milestone2."
   ]
  }
 ],
 "metadata": {
  "colab": {
   "collapsed_sections": [
    "rlLoEhsbtOSg",
    "baG7rS5FtOSh",
    "63k9imdMtOSi",
    "T0h9uyJNVL3U",
    "foDG3YDDtOSm",
    "FE62g5aoVL3W",
    "K8ck0A1ltOSn",
    "HxhehTWQtOSo",
    "XYmSIliuIrcy",
    "vjT3FFoDIrc3",
    "8xmd6go2Irc5",
    "Z8svlVbWtOSy",
    "XoilGTkZIrc6",
    "70E7M7KJtOS1"
   ],
   "name": "Reference_Notebook_Milestone_1_Regression.ipynb",
   "provenance": []
  },
  "kernelspec": {
   "display_name": "Python 3",
   "language": "python",
   "name": "python3"
  },
  "language_info": {
   "codemirror_mode": {
    "name": "ipython",
    "version": 3
   },
   "file_extension": ".py",
   "mimetype": "text/x-python",
   "name": "python",
   "nbconvert_exporter": "python",
   "pygments_lexer": "ipython3",
   "version": "3.8.3"
  }
 },
 "nbformat": 4,
 "nbformat_minor": 1
}
